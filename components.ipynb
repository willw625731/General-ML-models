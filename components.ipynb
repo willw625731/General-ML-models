{
 "cells": [
  {
   "cell_type": "code",
   "execution_count": 1,
   "metadata": {},
   "outputs": [],
   "source": [
    "import torch\n",
    "from torch import nn"
   ]
  },
  {
   "cell_type": "code",
   "execution_count": null,
   "metadata": {},
   "outputs": [],
   "source": []
  },
  {
   "cell_type": "code",
   "execution_count": null,
   "metadata": {},
   "outputs": [],
   "source": [
    "class linear_layer(nn.Module):\n",
    "    def __init__(self, x1, x2, activation):\n",
    "        super().__init()\n",
    "        self.w = nn.Parameter(torch.empty(x1, x2))\n",
    "        self.b = nn.Parameter(torch.zeros(x2))\n",
    "        self.act = activation\n",
    "        \n",
    "    def forward(self, x):\n",
    "        out = self.act(x @ w + b)\n",
    "        return out\n",
    "\n",
    "class residual_layer(nn.Module):\n",
    "    def __init__(self, x1, x2, activation):\n",
    "        super().__init()\n",
    "        self.w = nn.Parameter(torch.empty(x1, x2))\n",
    "        self.b = nn.Parameter(torch.zeros(x2))\n",
    "        self.act = activation\n",
    "        \n",
    "    def forward(self, x):\n",
    "        out = torch.cat((x, self.act(x @ w + b)))\n",
    "        return out"
   ]
  }
 ],
 "metadata": {
  "kernelspec": {
   "display_name": "sci_env",
   "language": "python",
   "name": "sci_env"
  },
  "language_info": {
   "codemirror_mode": {
    "name": "ipython",
    "version": 3
   },
   "file_extension": ".py",
   "mimetype": "text/x-python",
   "name": "python",
   "nbconvert_exporter": "python",
   "pygments_lexer": "ipython3",
   "version": "3.7.6"
  }
 },
 "nbformat": 4,
 "nbformat_minor": 4
}
